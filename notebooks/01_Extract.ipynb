{
 "cells": [
  {
   "cell_type": "markdown",
   "id": "aa967ac0-beb6-4e46-820d-676aaa8fdeae",
   "metadata": {},
   "source": [
    "# Extract YRBS Data\n",
    "\n",
    "Youth Risk Behavior Survey (YRBS) data has been converted from fixed-width-format, to comma separated values.  The dataset was split into two by state name, A-M and N-Z. In this notebook, we will merge the two together and perform some basic cleanup and initial exploration.\n",
    "\n",
    "This notebook saves results in local SQL database table `STATE`.\n"
   ]
  },
  {
   "cell_type": "code",
   "execution_count": 1,
   "id": "2f16c030-7758-405a-91d0-505b1f2a4a35",
   "metadata": {},
   "outputs": [],
   "source": [
    "import sys\n",
    "import time\n",
    "import pandas as pd\n",
    "import numpy as np\n",
    "from pathlib import Path\n",
    "from sqlalchemy import inspect, create_engine\n",
    "start_time = time.time()"
   ]
  },
  {
   "cell_type": "markdown",
   "id": "d9bf2136-1101-49d3-8fdd-54384f1ac48d",
   "metadata": {},
   "source": [
    "## Set the file paths and read data\n",
    "\n",
    "TODO:  Review other csv files and find another cloud storage option.\n",
    "\n",
    "Download the converted CSV files from here: https://drive.google.com/file/d/11KfEMD5GrSDqIwB6jURa45W0fX2yezXF/view?usp=sharing\n",
    "\n",
    "Then extract the contents of the zip file into the `data` directory. You should have four csv files:\n",
    "\n",
    "        <project root>\n",
    "        |-- LICENSE\n",
    "        |-- README.md\n",
    "        '-- data\n",
    "            |-- SADC_STate_a_m_Q.csv\n",
    "            |-- SADC_a_m_QN.csv\n",
    "            |-- SADC_n_z_Q.csv\n",
    "            |-- SADC_n_z_QN.csv\n",
    "            '-- cdc_yrbss_state_data.zip\n",
    " \n"
   ]
  },
  {
   "cell_type": "code",
   "execution_count": 2,
   "id": "327cccf3-3c87-4d91-89fc-44110b3cfb70",
   "metadata": {},
   "outputs": [],
   "source": [
    "state_a_m_datafile = Path(\"../origin_data/SADC_State_a_m_Q.csv\")\n",
    "state_n_z_datafile = Path(\"../origin_data/SADC_State_n_z_Q.csv\")\n",
    "district_datafile = Path(\"../origin_data/SADC_District_Q.csv\")\n",
    "national_datafile = Path(\"../origin_data/SADC_National_Q.csv\")\n",
    "state_a_m_df = pd.read_csv(state_a_m_datafile)\n",
    "state_n_z_df = pd.read_csv(state_n_z_datafile)\n",
    "district_df = pd.read_csv(district_datafile)\n",
    "national_df = pd.read_csv(national_datafile)\n",
    "state_df = pd.concat([state_a_m_df, state_n_z_df])\n"
   ]
  },
  {
   "cell_type": "markdown",
   "id": "f9717d79-e192-403a-9598-574cacda4395",
   "metadata": {},
   "source": [
    "## Data Cleanup"
   ]
  },
  {
   "cell_type": "code",
   "execution_count": 3,
   "id": "5e6ed387",
   "metadata": {},
   "outputs": [],
   "source": [
    "# convert `year` to int\n",
    "district_df[\"year\"] = district_df[\"year\"].astype('int')\n",
    "district_df[\"year\"] = district_df[\"year\"].astype('int')\n",
    "national_df[\"year\"] = national_df[\"year\"].astype('int')\n"
   ]
  },
  {
   "cell_type": "markdown",
   "id": "be3bf573-e080-4ba5-beb5-6da01b9161f0",
   "metadata": {},
   "source": [
    "## Address any NaN values\n",
    "\n"
   ]
  },
  {
   "cell_type": "code",
   "execution_count": 4,
   "id": "10cd6337-2c40-4de8-a9b3-bc24a558af66",
   "metadata": {},
   "outputs": [],
   "source": [
    "# # Fill NaNs with `0`\n",
    "# state_df = state_df.fillna(0)\n",
    "# district_df = district_df.fillna(0)\n",
    "# national_df = national_df.fillna(0)"
   ]
  },
  {
   "cell_type": "code",
   "execution_count": 5,
   "id": "abc87f20-5975-42ae-bd12-b5359144999c",
   "metadata": {},
   "outputs": [],
   "source": [
    "# Convert categorized `object` data to int and fillna() with `0`\n",
    "\"\"\"NOTE:\n",
    "Convert these categorical columns to int and fill null values with 0.\n",
    "\n",
    "\"\"\"\n",
    "cols_int = [\"sitetypenum\", \"survyear\", \"stratum\", \"PSU\", \"age\", \"sex\", \"grade\", \"race4\", \"race7\", \"qnobese\", \"qnowt\", \"q66\", \"q65\", \"sexid\", \"sexid2\", \"sexpart\", \"sexpart2\", \n",
    "            \"q8\", \"q9\", \"q10\", \"q11\", \"q12\", \"q13\", \"q14\", \"q15\", \"q16\", \"q17\", \"q18\", \"q19\", \"q20\", \"q21\", \"q22\", \"q23\", \"q24\", \"q25\", \"q26\", \"q27\", \"q28\", \"q29\", \n",
    "            \"q30\", \"q31\", \"q32\", \"q33\", \"q34\", \"q35\", \"q36\", \"q37\", \"q38\", \"q39\", \"q40\", \"q41\", \"q42\", \"q43\", \"q44\", \"q45\", \"q46\", \"q47\", \"q48\", \"q49\", \n",
    "            \"q50\", \"q51\", \"q52\", \"q53\", \"q54\", \"q55\", \"q56\", \"q57\", \"q58\", \"q59\", \"q60\", \"q61\", \"q62\", \"q63\", \"q64\", \"q67\", \"q68\", \"q69\", \n",
    "            \"q70\", \"q71\", \"q72\", \"q73\", \"q74\", \"q75\", \"q76\", \"q77\", \"q78\", \"q79\", \"q80\", \"q81\", \"q82\", \"q83\", \"q84\", \"q85\", \"q86\", \"q87\", \"q88\", \"q89\", \n",
    "            \"qbikehelmet\", \"qdrivemarijuana\", \"qcelldriving\", \"qpropertydamage\", \"qbullyweight\", \"qbullygender\", \"qbullygay\", \"qchokeself\", \"qcigschool\", \n",
    "            \"qchewtobschool\", \"qalcoholschool\", \"qtypealcohol2\", \"qhowmarijuana\", \"qmarijuanaschool\", \"qcurrentopioid\", \"qcurrentcocaine\", \"qcurrentheroin\", \"qcurrentmeth\", \n",
    "            \"qhallucdrug\", \"qprescription30d\", \"qgenderexp\", \"qtaughtHIV\", \"qtaughtsexed\", \"qtaughtstd\", \"qtaughtcondom\", \"qtaughtbc\", \"qdietpop\", \"qcoffeetea\", \"qsportsdrink\", \n",
    "            \"qenergydrink\", \"qsugardrink\", \"qwater\", \"qfastfood\", \"qfoodallergy\", \"qwenthungry\", \"qmusclestrength\", \"qsunscreenuse\", \"qindoortanning\", \"qsunburn\", \"qconcentrating\", \n",
    "            \"qcurrentasthma\", \"qwheresleep\", \"qspeakenglish\", \"qtransgender\"]\n",
    "\n",
    "for col in cols_int:\n",
    "    state_df[col] = state_df[col].fillna(0)\n",
    "    state_df[col] = state_df[col].astype('int')\n",
    "    district_df[col] = district_df[col].fillna(0)\n",
    "    district_df[col] = district_df[col].astype('int')\n",
    "    national_df[col] = national_df[col].fillna(0)\n",
    "    national_df[col] = national_df[col].astype('int')\n"
   ]
  },
  {
   "cell_type": "markdown",
   "id": "bbbca82c-09db-45f8-8c60-aed75eb64094",
   "metadata": {
    "tags": []
   },
   "source": [
    "## Save State Data to Database Table"
   ]
  },
  {
   "cell_type": "code",
   "execution_count": 6,
   "id": "75fa7565-638f-4f73-950c-f223f06d6559",
   "metadata": {},
   "outputs": [
    {
     "name": "stdout",
     "output_type": "stream",
     "text": [
      "['DISTRICT', 'NATIONAL', 'STATE']\n"
     ]
    }
   ],
   "source": [
    "connection_string = 'sqlite:///../data/yrbss_data.db'\n",
    "engine = create_engine(connection_string)\n",
    "insp = inspect(engine)\n",
    "\n",
    "state_df.to_sql('STATE', engine, index=False, if_exists='replace')\n",
    "district_df.to_sql('DISTRICT', engine, index=False, if_exists='replace')\n",
    "national_df.to_sql('NATIONAL', engine, index=False, if_exists='replace')\n",
    "\n",
    "print(insp.get_table_names())\n",
    "# display(pd.read_sql_query(\"SELECT * FROM STATE LIMIT 3;\", con=engine))\n",
    "# display(pd.read_sql_query(\"SELECT COUNT() FROM STATE\", con=engine))"
   ]
  },
  {
   "cell_type": "markdown",
   "id": "67fe504a-371d-44c5-93bc-15b344e9db8b",
   "metadata": {
    "tags": []
   },
   "source": [
    "## Read Sample Data into Pandas"
   ]
  },
  {
   "cell_type": "code",
   "execution_count": 7,
   "id": "0deccb05-3239-4d78-b64f-f9ae5ac5d60c",
   "metadata": {},
   "outputs": [],
   "source": [
    "# my_subset_df = pd.read_sql_query(\"SELECT `year`, `age` FROM STATE ;\", con=engine)\n",
    "# my_subset_df.shape"
   ]
  },
  {
   "cell_type": "code",
   "execution_count": 8,
   "id": "d9066541-1d0c-4159-8b73-01fc8d7e602b",
   "metadata": {},
   "outputs": [],
   "source": [
    "# print(f\"Imported from SQL Dataframe Shape: {my_subset_df.shape}\\n\\n\")\n",
    "# print(\"Head:\")\n",
    "# display(my_subset_df.head(3))\n",
    "# print(\"Tail:\")\n",
    "# display(my_subset_df.tail(3))"
   ]
  },
  {
   "cell_type": "code",
   "execution_count": 9,
   "id": "3ee9a979-91c5-4d04-9fd5-f2aab5fd5144",
   "metadata": {},
   "outputs": [
    {
     "name": "stdout",
     "output_type": "stream",
     "text": [
      "duration: 440.4635417461395\n"
     ]
    }
   ],
   "source": [
    "current_time = time.time()\n",
    "elapsed_time = current_time - start_time\n",
    "print(f\"duration: {elapsed_time}\")"
   ]
  }
 ],
 "metadata": {
  "kernelspec": {
   "display_name": "dev",
   "language": "python",
   "name": "dev"
  },
  "language_info": {
   "codemirror_mode": {
    "name": "ipython",
    "version": 3
   },
   "file_extension": ".py",
   "mimetype": "text/x-python",
   "name": "python",
   "nbconvert_exporter": "python",
   "pygments_lexer": "ipython3",
   "version": "3.7.13"
  }
 },
 "nbformat": 4,
 "nbformat_minor": 5
}
