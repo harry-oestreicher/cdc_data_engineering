{
 "cells": [
  {
   "cell_type": "markdown",
   "id": "aa967ac0-beb6-4e46-820d-676aaa8fdeae",
   "metadata": {},
   "source": [
    "# EDA\n",
    "\n",
    "Youth Risk Behavior Survey (YRBS) data has been converted from fixed-width-format, to comma separated values.  The dataset was split into two by state name, A-M and N-Z. In this notebook, we will merge the two together and perform some basic cleanup and initial exploration.\n"
   ]
  },
  {
   "cell_type": "code",
   "execution_count": null,
   "id": "2f16c030-7758-405a-91d0-505b1f2a4a35",
   "metadata": {},
   "outputs": [],
   "source": [
    "import sys\n",
    "import time\n",
    "import pandas as pd\n",
    "import numpy as np\n",
    "from pathlib import Path\n",
    "from sqlalchemy import inspect, create_engine\n",
    "import hvplot.pandas\n",
    "\n",
    "pd.set_option('display.max_rows', 500)\n",
    "pd.set_option('display.max_columns', 500)\n",
    "pd.set_option('display.width', 1000)"
   ]
  },
  {
   "cell_type": "markdown",
   "id": "d9bf2136-1101-49d3-8fdd-54384f1ac48d",
   "metadata": {},
   "source": [
    "## Read our SQL database\n"
   ]
  },
  {
   "cell_type": "code",
   "execution_count": null,
   "id": "75fa7565-638f-4f73-950c-f223f06d6559",
   "metadata": {},
   "outputs": [],
   "source": [
    "connection_string = 'sqlite:///data/cdc_yrbs_state_data.db'\n",
    "engine = create_engine(connection_string)\n",
    "insp = inspect(engine)\n",
    "print(insp.get_table_names())\n",
    "display(pd.read_sql_query(\"SELECT * FROM STATE LIMIT 3;\", con=engine))\n",
    "display(pd.read_sql_query(\"SELECT COUNT() FROM STATE\", con=engine))"
   ]
  },
  {
   "cell_type": "markdown",
   "id": "67fe504a-371d-44c5-93bc-15b344e9db8b",
   "metadata": {
    "tags": []
   },
   "source": [
    "## Read the Full Database into a Pandas DataFrame"
   ]
  },
  {
   "cell_type": "code",
   "execution_count": null,
   "id": "0deccb05-3239-4d78-b64f-f9ae5ac5d60c",
   "metadata": {},
   "outputs": [],
   "source": [
    "df = pd.read_sql_query(\"SELECT * FROM STATE;\", con=engine)\n",
    "df.shape"
   ]
  },
  {
   "cell_type": "code",
   "execution_count": null,
   "id": "d9066541-1d0c-4159-8b73-01fc8d7e602b",
   "metadata": {},
   "outputs": [],
   "source": [
    "print(f\"Imported from SQL Dataframe Shape: {df.shape}\\n\\n\")\n",
    "print(\"Head:\")\n",
    "display(df.head(3))\n",
    "print(\"Tail:\")\n",
    "display(df.tail(3))"
   ]
  },
  {
   "cell_type": "markdown",
   "id": "f118b12b-5ba8-42b8-81ed-eb6e2fa9645d",
   "metadata": {
    "tags": []
   },
   "source": [
    "## Column Enumeration\n",
    "\n",
    "We have SAS files to help with this. But python gives us disctionaries to have more granularity with our analysis.  \n",
    "\n",
    "SAS Input File sample\n",
    "\n",
    "``` SAS\n",
    "data dataout.sadc_2019_xxxxxxx;\n",
    "infile datain lrecl=900;\n",
    "input\n",
    "sitecode $ 1-5\n",
    "sitename $ 6-55\n",
    "sitetype $ 56-105\n",
    "sitetypenum 106-113\n",
    "...\n",
    "...\n",
    "```\n",
    "\n",
    "SAS Proc Format sample\n",
    "\n",
    "``` SAS\n",
    "proc format library=library;\n",
    "value $SITE\n",
    "\"AB\" = \"Albuquerque, NM\" \n",
    "\"AK\" = \"Alaska\"\n",
    "\"AL\" = \"Alabama\"\n",
    "\"AR\" = \"Arkansas\"\n",
    "\"AZB\" = \"Arizona\"\n",
    "...\n",
    "\n",
    "```\n",
    "etc"
   ]
  },
  {
   "cell_type": "markdown",
   "id": "a0ff8a25-b4b7-48dc-b10f-fb361997cd8c",
   "metadata": {
    "tags": []
   },
   "source": [
    "### Python Dictionaries, Ready for Pandas!\n",
    "\n",
    "Python dictionaries are used for value translation.  However, we will perform this task later ad-hoc.  So for now, we will save our DataFrame to a \"cleaned\" Pandas DataFrame."
   ]
  },
  {
   "cell_type": "code",
   "execution_count": null,
   "id": "2dc1f165-17a5-44d0-ac2b-71197646c527",
   "metadata": {},
   "outputs": [],
   "source": [
    "# Function? :( maybe not\n",
    "def use_dict(column_in, value_in):\n",
    "    \"\"\"\n",
    "    Translates values into understandable output.\n",
    "    \"\"\"\n",
    "    if column_in == \"age\":\n",
    "        age ={\n",
    "            1: \"12 years old or younger\",\n",
    "            2: \"13 years old\",\n",
    "            3: \"14 years old\",\n",
    "            4: \"15 years old\",\n",
    "            5: \"16 years old\",\n",
    "            6: \"17 years old\",\n",
    "            7: \"18 years old or older\"\n",
    "        }\n",
    "        val = age.get(value_in)\n",
    "\n",
    "    elif column_in == \"sex\":\n",
    "        sex ={\n",
    "            1: \"Female\",\n",
    "            2: \"Male\",\n",
    "            3: \"Other\"\n",
    "        }\n",
    "        val = sex.get(value_in)\n",
    "        \n",
    "    elif column_in == \"grade\":\n",
    "        grade = {\n",
    "            1: \"9th grade\",\n",
    "            2: \"10th grade\",\n",
    "            3: \"11th grade\",\n",
    "            4: \"12th grade\",\n",
    "            5: \"Ungraded or other grade\"\n",
    "        }\n",
    "        val = grade.get(value_in)\n",
    "\n",
    "    elif column_in == \"race4\":\n",
    "        race4 = {\n",
    "            1: \"White\",\n",
    "            2: \"Black or African American\",\n",
    "            3: \"Hispanic/Latino\",\n",
    "            4: \"All Other Races\"\n",
    "        }\n",
    "        val = race4.get(value_in)\n",
    "\n",
    "    elif column_in == \"grarace7de\":\n",
    "        race7 = {\n",
    "            1: \"American Indian/Alaska Native\",\n",
    "            2: \"Asian\",\n",
    "            3: \"Black or African American\",\n",
    "            4: \"Hispanic/Latino\",\n",
    "            5: \"Native Hawaiian/Other Pacific Islander\",\n",
    "            6: \"White\",\n",
    "            7: \"Multiple Races (Non-Hispanic)\"\n",
    "        }\n",
    "        val = race7.get(value_in)\n",
    "        \n",
    "    elif column_in == \"q66\":\n",
    "        q66 = {\n",
    "            1: \"Heterosexual (straight)\",\n",
    "            2: \"Gay or lesbian\",\n",
    "            3: \"Bisexual\",\n",
    "            4: \"Not sure\"\n",
    "        }\n",
    "        val = q66.get(value_in)\n",
    "        \n",
    "    elif column_in == \"q65\":\n",
    "        q65 = {\n",
    "            1: \"I have never had sexual contact\",\n",
    "            2: \"Females\",\n",
    "            3: \"Males\",\n",
    "            4: \"Females and males\"\n",
    "        }\n",
    "        val = q65.get(value_in)\n",
    "        \n",
    "       \n",
    "        \n",
    "    return val\n",
    "\n",
    "print(use_dict(\"age\", 6))"
   ]
  },
  {
   "cell_type": "code",
   "execution_count": null,
   "id": "3ae347d6-d7d7-45c2-9096-f8fe1334cdc6",
   "metadata": {},
   "outputs": [],
   "source": [
    "# Define dictionaries\n",
    "\n",
    "sex_dict ={\n",
    "    1: \"Female\",\n",
    "    2: \"Male\",\n",
    "    3: \"Other\"\n",
    "}\n",
    "\n",
    "age_dict ={\n",
    "    1: \"12 years old or younger\",\n",
    "    2: \"13 years old\",\n",
    "    3: \"14 years old\",\n",
    "    4: \"15 years old\",\n",
    "    5: \"16 years old\",\n",
    "    6: \"17 years old\",\n",
    "    7: \"18 years old or older\"\n",
    "}\n",
    "\n",
    "grade_dict = {\n",
    "    1: \"9th grade\",\n",
    "    2: \"10th grade\",\n",
    "    3: \"11th grade\",\n",
    "    4: \"12th grade\",\n",
    "    5: \"Ungraded or other grade\"\n",
    "}\n",
    "\n",
    "race4_dict = {\n",
    "    1: \"White\",\n",
    "    2: \"Black or African American\",\n",
    "    3: \"Hispanic/Latino\",\n",
    "    4: \"All Other Races\"\n",
    "}\n",
    "\n",
    "race7_dict = {\n",
    "    1: \"American Indian/Alaska Native\",\n",
    "    2: \"Asian\",\n",
    "    3: \"Black or African American\",\n",
    "    4: \"Hispanic/Latino\",\n",
    "    5: \"Native Hawaiian/Other Pacific Islander\",\n",
    "    6: \"White\",\n",
    "    7: \"Multiple Races (Non-Hispanic)\"\n",
    "}\n",
    "\n",
    "q65_dict = {\n",
    "    1: \"I have never had sexual contact\",\n",
    "    2: \"Females\",\n",
    "    3: \"Males\",\n",
    "    4: \"Females and males\"\n",
    "}\n",
    "\n",
    "q66_dict = {\n",
    "    1: \"Heterosexual (straight)\",\n",
    "    2: \"Gay or lesbian\",\n",
    "    3: \"Bisexual\",\n",
    "    4: \"Not sure\"\n",
    "}\n"
   ]
  },
  {
   "cell_type": "code",
   "execution_count": null,
   "id": "21656994-4c33-4b60-9aa8-11e910416821",
   "metadata": {},
   "outputs": [],
   "source": [
    "# Rewrite columns data from survey question mapping dictionaries\n",
    "df=df.replace({\"age\": age_dict})\n",
    "df=df.replace({\"sex\": sex_dict})\n",
    "df=df.replace({\"grade\": grade_dict})\n",
    "df=df.replace({\"race4\": race4_dict})\n",
    "df=df.replace({\"race7\": race7_dict})\n",
    "df=df.replace({\"q66\": q66_dict})\n",
    "df=df.replace({\"q65\": q65_dict})\n",
    "# df"
   ]
  },
  {
   "cell_type": "code",
   "execution_count": null,
   "id": "464183ce-ad09-4ef9-8f25-a2cf8a9b54bf",
   "metadata": {},
   "outputs": [],
   "source": [
    "df[\"age\"].value_counts()"
   ]
  },
  {
   "cell_type": "code",
   "execution_count": null,
   "id": "76729311-2be9-408c-8510-9eb49e348a8f",
   "metadata": {},
   "outputs": [],
   "source": [
    "df[\"race4\"].value_counts()"
   ]
  },
  {
   "cell_type": "code",
   "execution_count": null,
   "id": "b4c1abc6-52ce-445b-b204-82a680998a84",
   "metadata": {
    "jupyter": {
     "source_hidden": true
    },
    "tags": []
   },
   "outputs": [],
   "source": [
    "df[\"q66\"].value_counts()"
   ]
  },
  {
   "cell_type": "code",
   "execution_count": null,
   "id": "dffce93d-ca00-45bc-bd43-c2e0481eebd2",
   "metadata": {},
   "outputs": [],
   "source": [
    "df[\"q65\"].value_counts()"
   ]
  },
  {
   "cell_type": "code",
   "execution_count": null,
   "id": "d77ca92e-a17b-4732-97ff-6e79853edae9",
   "metadata": {},
   "outputs": [],
   "source": []
  },
  {
   "cell_type": "code",
   "execution_count": null,
   "id": "6c9472ce-24db-4a3a-90cc-1c444ac81f73",
   "metadata": {},
   "outputs": [],
   "source": []
  },
  {
   "cell_type": "markdown",
   "id": "45134ee2-9b67-4e4e-9b23-3607506525d6",
   "metadata": {
    "tags": []
   },
   "source": [
    "## Summarize and Visualize\n",
    "Extract Subset of data"
   ]
  },
  {
   "cell_type": "code",
   "execution_count": null,
   "id": "5eedc136-c398-4ea6-a7ba-92799260fe77",
   "metadata": {},
   "outputs": [],
   "source": [
    "cols = [\"sitename\", \"year\", \"age\", \"sex\", \"race7\", \"stheight\", \"stweight\", \"bmi\", \"bmipct\", \"q66\", \"q65\"]\n",
    "summary_df = df[cols].copy()"
   ]
  },
  {
   "cell_type": "code",
   "execution_count": null,
   "id": "dd47ed10-7e07-4a7f-ae41-bcc5c3d32c70",
   "metadata": {},
   "outputs": [],
   "source": [
    "# # Concatenate dataframes\n",
    "# summary_df = pd.concat([summary_a_m_df, summary_n_z_df])\n",
    "# print(f\"summery_df Shape: {summary_df.shape}\\n\\n\")\n",
    "# print(\"Head:\")\n",
    "# display(summary_df.head(3))\n",
    "# print(\"Tail:\")\n",
    "# display(summary_df.tail(3))\n",
    "# sorted_df = summary_df.sort_values([\"year\"], ascending=True)\n",
    "# sorted_df.hvplot(x=\"year\")"
   ]
  },
  {
   "cell_type": "code",
   "execution_count": null,
   "id": "df640591-343b-4435-a25c-8048170db0e4",
   "metadata": {},
   "outputs": [],
   "source": []
  }
 ],
 "metadata": {
  "kernelspec": {
   "display_name": "dev",
   "language": "python",
   "name": "dev"
  },
  "language_info": {
   "codemirror_mode": {
    "name": "ipython",
    "version": 3
   },
   "file_extension": ".py",
   "mimetype": "text/x-python",
   "name": "python",
   "nbconvert_exporter": "python",
   "pygments_lexer": "ipython3",
   "version": "3.7.13"
  }
 },
 "nbformat": 4,
 "nbformat_minor": 5
}
