{
 "cells": [
  {
   "cell_type": "markdown",
   "id": "aa967ac0-beb6-4e46-820d-676aaa8fdeae",
   "metadata": {},
   "source": [
    "# Exploratory Data Analysis\n",
    "\n",
    "Youth Risk Behavior Survey (YRBS) data has been converted from fixed-width-format, to comma separated values.  The dataset was split into two by state name, A-M and N-Z. In this notebook, we will merge the two together and perform some basic cleanup and initial exploration.\n"
   ]
  },
  {
   "cell_type": "code",
   "execution_count": null,
   "id": "2f16c030-7758-405a-91d0-505b1f2a4a35",
   "metadata": {},
   "outputs": [],
   "source": [
    "import sys\n",
    "import time\n",
    "import pandas as pd\n",
    "import numpy as np\n",
    "from pathlib import Path\n",
    "from sqlalchemy import inspect, create_engine\n",
    "import hvplot.pandas\n",
    "\n",
    "pd.set_option('display.max_rows', 500)\n",
    "pd.set_option('display.max_columns', 500)\n",
    "pd.set_option('display.width', 1000)"
   ]
  },
  {
   "cell_type": "markdown",
   "id": "d9bf2136-1101-49d3-8fdd-54384f1ac48d",
   "metadata": {},
   "source": [
    "## Set the file paths and read data\n",
    "\n",
    "Download the converted CSV files from here: https://drive.google.com/file/d/11KfEMD5GrSDqIwB6jURa45W0fX2yezXF/view?usp=sharing\n",
    "\n",
    "Then extract the contents of the zip file into the `data` directory. You should have four csv files:\n",
    "\n",
    "        <project root>\n",
    "        |-- LICENSE\n",
    "        |-- README.md\n",
    "        '-- data\n",
    "            |-- SADC_a_m_Q.csv\n",
    "            |-- SADC_a_m_QN.csv\n",
    "            |-- SADC_n_z_Q.csv\n",
    "            |-- SADC_n_z_QN.csv\n",
    "            '-- cdc_yrbss_state_data.zip\n",
    " \n"
   ]
  },
  {
   "cell_type": "code",
   "execution_count": null,
   "id": "327cccf3-3c87-4d91-89fc-44110b3cfb70",
   "metadata": {},
   "outputs": [],
   "source": [
    "state_a_m_datafile = Path(\"data/SADC_a_m_Q.csv\")\n",
    "state_n_z_datafile = Path(\"data/SADC_n_z_Q.csv\")"
   ]
  },
  {
   "cell_type": "code",
   "execution_count": null,
   "id": "80d01718-1041-4671-9619-7122091c152d",
   "metadata": {},
   "outputs": [],
   "source": [
    "start_time = time.time()\n",
    "state_a_m_df = pd.read_csv(state_a_m_datafile)\n",
    "state_n_z_df = pd.read_csv(state_n_z_datafile)\n",
    "current_time = time.time()\n",
    "elapsed_time = current_time - start_time\n",
    "print(f\"duration: {elapsed_time}\")"
   ]
  },
  {
   "cell_type": "code",
   "execution_count": null,
   "id": "2c180f75-daa7-4ea1-94bc-8e64c4d5ca08",
   "metadata": {},
   "outputs": [],
   "source": [
    "print(f\"A-M Shape: {state_a_m_df.shape}\")\n",
    "print(f\"N-Z Shape: {state_n_z_df.shape}\\n\\n\")\n",
    "print(\"Heads:\")\n",
    "display(state_a_m_df.head(1))\n",
    "display(state_n_z_df.head(1))\n",
    "print(\"Tails:\")\n",
    "display(state_a_m_df.tail(1))\n",
    "display(state_n_z_df.tail(1))"
   ]
  },
  {
   "cell_type": "markdown",
   "id": "6581d6b0-b8e2-4c47-a2b0-bd8864a440d9",
   "metadata": {},
   "source": [
    "## Transform"
   ]
  },
  {
   "cell_type": "markdown",
   "id": "6bd9d039-14b3-4081-8b55-f4a41205f720",
   "metadata": {},
   "source": [
    "### Start by concatenating the DataFrames"
   ]
  },
  {
   "cell_type": "code",
   "execution_count": null,
   "id": "e6f76f28-471b-43fc-87d6-8781f280973d",
   "metadata": {},
   "outputs": [],
   "source": [
    "# Concatenate dataframes\n",
    "state_df = pd.concat([state_a_m_df, state_n_z_df])\n",
    "# print(f\"summery_df Shape: {state_df.shape}\\n\\n\")\n",
    "# print(\"Head:\")\n",
    "# display(state_df.head(3))\n",
    "# print(\"Tail:\")\n",
    "# display(state_df.tail(3))"
   ]
  },
  {
   "cell_type": "markdown",
   "id": "800ca72f-1671-49d2-b7b2-5394739b83e7",
   "metadata": {},
   "source": [
    "Trim to 1st 27 columns"
   ]
  },
  {
   "cell_type": "code",
   "execution_count": null,
   "id": "ab60cd6a-cc25-416d-878d-ff665742c928",
   "metadata": {},
   "outputs": [],
   "source": [
    "# cols = [\"sitecode\", \"sitename\", \"sitetype\", \"sitetypenum\", \"year\", \"survyear\", \"weight\", \"stratum\", \"PSU\", \"record\",\n",
    "# \"age\", \"sex\", \"grade\", \"race4\", \"race7\", \"stheight\", \"stweight\", \"bmi\", \"bmipct\", \"qnobese\", \"qnowt\", \"q66\", \n",
    "# \"q65\", \"sexid\", \"sexid2\", \"sexpart\", \"sexpart2\"]\n",
    "\n",
    "# state_df = state_df[cols].copy()"
   ]
  },
  {
   "cell_type": "code",
   "execution_count": null,
   "id": "5b5cc098-2613-4b0f-88c6-d252fcb3fe12",
   "metadata": {},
   "outputs": [],
   "source": [
    "# state_df.info()"
   ]
  },
  {
   "cell_type": "markdown",
   "id": "f9717d79-e192-403a-9598-574cacda4395",
   "metadata": {},
   "source": [
    "## Fix year values"
   ]
  },
  {
   "cell_type": "code",
   "execution_count": null,
   "id": "feb88c6d-22bf-4d4b-96d9-46f46f26d8ec",
   "metadata": {},
   "outputs": [],
   "source": [
    "state_df[\"year\"] = state_df[\"year\"].astype('int')"
   ]
  },
  {
   "cell_type": "code",
   "execution_count": null,
   "id": "d20d4f31-7564-41e7-b9ac-b29e146a1c0e",
   "metadata": {},
   "outputs": [],
   "source": [
    "# display(state_df[\"year\"].value_counts(3))"
   ]
  },
  {
   "cell_type": "code",
   "execution_count": null,
   "id": "d927590f-7506-4e13-97f1-19d5d297db87",
   "metadata": {},
   "outputs": [],
   "source": [
    "# Drop legacy record id column\n",
    "state_df.drop(columns=['record'], inplace=True)"
   ]
  },
  {
   "cell_type": "markdown",
   "id": "be3bf573-e080-4ba5-beb5-6da01b9161f0",
   "metadata": {},
   "source": [
    "## Address any NaN values\n",
    "\n"
   ]
  },
  {
   "cell_type": "code",
   "execution_count": null,
   "id": "77a1c0d8-2e14-4434-9d9c-ce76d7d1cffc",
   "metadata": {},
   "outputs": [],
   "source": [
    "# state_df.isna()\n",
    "state_df = state_df.fillna(0)"
   ]
  },
  {
   "cell_type": "code",
   "execution_count": null,
   "id": "cb528e06-efe1-4d65-b496-70d72847d07a",
   "metadata": {},
   "outputs": [],
   "source": [
    "# print(f\"Shape: {state_df.shape}\\n\\n\")\n",
    "# print(\"Head:\")\n",
    "# display(state_df.head(3))\n",
    "# print(\"Tail:\")\n",
    "# display(state_df.tail(3))"
   ]
  },
  {
   "cell_type": "code",
   "execution_count": null,
   "id": "abc87f20-5975-42ae-bd12-b5359144999c",
   "metadata": {},
   "outputs": [],
   "source": [
    "# Convert categorized data to int without decimals and fillna() with `0`\n",
    "\"\"\"NOTE:\n",
    "Convert these categorical columns to int and fill null values with 0.\n",
    "\n",
    "\"\"\"\n",
    "cols_int = [\"sitetypenum\", \"survyear\", \"stratum\", \"PSU\", \"age\", \"sex\", \"grade\", \"race4\", \"race7\", \"qnobese\", \"qnowt\", \"q66\", \"q65\", \"sexid\", \"sexid2\", \"sexpart\", \"sexpart2\", \n",
    "            \"q8\", \"q9\", \"q10\", \"q11\", \"q12\", \"q13\", \"q14\", \"q15\", \"q16\", \"q17\", \"q18\", \"q19\", \"q20\", \"q21\", \"q22\", \"q23\", \"q24\", \"q25\", \"q26\", \"q27\", \"q28\", \"q29\", \n",
    "            \"q30\", \"q31\", \"q32\", \"q33\", \"q34\", \"q35\", \"q36\", \"q37\", \"q38\", \"q39\", \"q40\", \"q41\", \"q42\", \"q43\", \"q44\", \"q45\", \"q46\", \"q47\", \"q48\", \"q49\", \n",
    "            \"q50\", \"q51\", \"q52\", \"q53\", \"q54\", \"q55\", \"q56\", \"q57\", \"q58\", \"q59\", \"q60\", \"q61\", \"q62\", \"q63\", \"q64\", \"q67\", \"q68\", \"q69\", \n",
    "            \"q70\", \"q71\", \"q72\", \"q73\", \"q74\", \"q75\", \"q76\", \"q77\", \"q78\", \"q79\", \"q80\", \"q81\", \"q82\", \"q83\", \"q84\", \"q85\", \"q86\", \"q87\", \"q88\", \"q89\", \n",
    "            \"qbikehelmet\", \"qdrivemarijuana\", \"qcelldriving\", \"qpropertydamage\", \"qbullyweight\", \"qbullygender\", \"qbullygay\", \"qchokeself\", \"qcigschool\", \n",
    "            \"qchewtobschool\", \"qalcoholschool\", \"qtypealcohol2\", \"qhowmarijuana\", \"qmarijuanaschool\", \"qcurrentopioid\", \"qcurrentcocaine\", \"qcurrentheroin\", \"qcurrentmeth\", \n",
    "            \"qhallucdrug\", \"qprescription30d\", \"qgenderexp\", \"qtaughtHIV\", \"qtaughtsexed\", \"qtaughtstd\", \"qtaughtcondom\", \"qtaughtbc\", \"qdietpop\", \"qcoffeetea\", \"qsportsdrink\", \n",
    "            \"qenergydrink\", \"qsugardrink\", \"qwater\", \"qfastfood\", \"qfoodallergy\", \"qwenthungry\", \"qmusclestrength\", \"qsunscreenuse\", \"qindoortanning\", \"qsunburn\", \"qconcentrating\", \n",
    "            \"qcurrentasthma\", \"qwheresleep\", \"qspeakenglish\", \"qtransgender\"]\n",
    "\n",
    "for col in cols_int:\n",
    "    state_df[col] = state_df[col].fillna(0)\n",
    "    state_df[col] = state_df[col].astype('int')\n",
    "    # summary_df[col] = summary_df[col].astype('string')\n",
    "# display(state_df.info())"
   ]
  },
  {
   "cell_type": "code",
   "execution_count": null,
   "id": "4decbd83-bb94-47f2-8fad-9d29415a676c",
   "metadata": {},
   "outputs": [],
   "source": [
    "state_df.dtypes"
   ]
  },
  {
   "cell_type": "code",
   "execution_count": null,
   "id": "c341605b-9f90-424a-8147-3b94aa794c09",
   "metadata": {},
   "outputs": [],
   "source": [
    "df = state_df.copy()\n",
    "display(df.head(3))"
   ]
  },
  {
   "cell_type": "markdown",
   "id": "bbbca82c-09db-45f8-8c60-aed75eb64094",
   "metadata": {
    "tags": []
   },
   "source": [
    "## Save to SQL Database"
   ]
  },
  {
   "cell_type": "code",
   "execution_count": null,
   "id": "75fa7565-638f-4f73-950c-f223f06d6559",
   "metadata": {},
   "outputs": [],
   "source": [
    "connection_string = 'sqlite:///data/cdc_yrbs_state_data.db'\n",
    "engine = create_engine(connection_string)\n",
    "insp = inspect(engine)\n",
    "df.to_sql('STATE', engine, index=False, if_exists='replace')\n",
    "print(insp.get_table_names())\n",
    "display(pd.read_sql_query(\"SELECT * FROM STATE LIMIT 3;\", con=engine))\n",
    "display(pd.read_sql_query(\"SELECT COUNT() FROM STATE\", con=engine))"
   ]
  },
  {
   "cell_type": "markdown",
   "id": "67fe504a-371d-44c5-93bc-15b344e9db8b",
   "metadata": {
    "tags": []
   },
   "source": [
    "## Read Sample Data into Pandas"
   ]
  },
  {
   "cell_type": "code",
   "execution_count": null,
   "id": "0deccb05-3239-4d78-b64f-f9ae5ac5d60c",
   "metadata": {},
   "outputs": [],
   "source": [
    "sql_data_df = pd.read_sql_query(\"SELECT * FROM STATE;\", con=engine)\n",
    "sql_data_df.shape"
   ]
  },
  {
   "cell_type": "code",
   "execution_count": null,
   "id": "d9066541-1d0c-4159-8b73-01fc8d7e602b",
   "metadata": {},
   "outputs": [],
   "source": [
    "print(f\"Imported from SQL Dataframe Shape: {sql_data_df.shape}\\n\\n\")\n",
    "print(\"Head:\")\n",
    "display(sql_data_df.head(3))\n",
    "print(\"Tail:\")\n",
    "display(sql_data_df.tail(3))"
   ]
  },
  {
   "cell_type": "code",
   "execution_count": null,
   "id": "2dc1f165-17a5-44d0-ac2b-71197646c527",
   "metadata": {},
   "outputs": [],
   "source": [
    "def use_dict(column_in, value_in):\n",
    "    \"\"\"\n",
    "    Translates values into understandable output.\n",
    "    \"\"\"\n",
    "    if column_in == \"age\":\n",
    "        age ={\n",
    "            1: \"12 years old or younger\",\n",
    "            2: \"13 years old\",\n",
    "            3: \"14 years old\",\n",
    "            4: \"15 years old\",\n",
    "            5: \"16 years old\",\n",
    "            6: \"17 years old\",\n",
    "            7: \"18 years old or older\"\n",
    "        }\n",
    "        val = age.get(value_in)\n",
    "\n",
    "    elif column_in == \"sex\":\n",
    "        sex ={\n",
    "            1: \"Female\",\n",
    "            2: \"Male\",\n",
    "            3: \"Other\"\n",
    "        }\n",
    "        val = sex.get(value_in)\n",
    "        \n",
    "    elif column_in == \"grade\":\n",
    "        grade = {\n",
    "            1: \"9th grade\",\n",
    "            2: \"10th grade\",\n",
    "            3: \"11th grade\",\n",
    "            4: \"12th grade\",\n",
    "            5: \"Ungraded or other grade\"\n",
    "        }\n",
    "        val = grade.get(value_in)\n",
    "\n",
    "    elif column_in == \"race4\":\n",
    "        race4 = {\n",
    "            1: \"White\",\n",
    "            2: \"Black or African American\",\n",
    "            3: \"Hispanic/Latino\",\n",
    "            4: \"All Other Races\"\n",
    "        }\n",
    "        val = race4.get(value_in)\n",
    "\n",
    "    elif column_in == \"grarace7de\":\n",
    "        race7 = {\n",
    "            1: \"American Indian/Alaska Native\",\n",
    "            2: \"Asian\",\n",
    "            3: \"Black or African American\",\n",
    "            4: \"Hispanic/Latino\",\n",
    "            5: \"Native Hawaiian/Other Pacific Islander\",\n",
    "            6: \"White\",\n",
    "            7: \"Multiple Races (Non-Hispanic)\"\n",
    "        }\n",
    "        val = race7.get(value_in)\n",
    "        \n",
    "    elif column_in == \"q66\":\n",
    "        q66 = {\n",
    "            1: \"Heterosexual (straight)\",\n",
    "            2: \"Gay or lesbian\",\n",
    "            3: \"Bisexual\",\n",
    "            4: \"Not sure\"\n",
    "        }\n",
    "        val = q66.get(value_in)\n",
    "        \n",
    "    elif column_in == \"q65\":\n",
    "        q65 = {\n",
    "            1: \"I have never had sexual contact\",\n",
    "            2: \"Females\",\n",
    "            3: \"Males\",\n",
    "            4: \"Females and males\"\n",
    "        }\n",
    "        val = q65.get(value_in)\n",
    "        \n",
    "       \n",
    "        \n",
    "    return val\n",
    "\n",
    "print(use_dict(\"age\", 6))"
   ]
  },
  {
   "cell_type": "code",
   "execution_count": null,
   "id": "3ae347d6-d7d7-45c2-9096-f8fe1334cdc6",
   "metadata": {},
   "outputs": [],
   "source": [
    "\n",
    "\n",
    "\n",
    "# race4_dict = {\n",
    "#     1: \"White\",\n",
    "#     2: \"Black or African American\",\n",
    "#     3: \"Hispanic/Latino\",\n",
    "#     4: \"All Other Races\"\n",
    "# }\n",
    "\n",
    "# race7_dict = {\n",
    "#     1: \"American Indian/Alaska Native\",\n",
    "#     2: \"Asian\",\n",
    "#     3: \"Black or African American\",\n",
    "#     4: \"Hispanic/Latino\",\n",
    "#     5: \"Native Hawaiian/Other Pacific Islander\",\n",
    "#     6: \"White\",\n",
    "#     7: \"Multiple Races (Non-Hispanic)\"\n",
    "# }\n",
    "\n",
    "# q66_dict = {\n",
    "#     1: \"Heterosexual (straight)\",\n",
    "#     2: \"Gay or lesbian\",\n",
    "#     3: \"Bisexual\",\n",
    "#     4: \"Not sure\"\n",
    "# }\n",
    "\n",
    "# q65_dict = {\n",
    "#     1: \"I have never had sexual contact\",\n",
    "#     2: \"Females\",\n",
    "#     3: \"Males\",\n",
    "#     4: \"Females and males\"\n",
    "# }\n",
    "\n"
   ]
  },
  {
   "cell_type": "code",
   "execution_count": null,
   "id": "21656994-4c33-4b60-9aa8-11e910416821",
   "metadata": {},
   "outputs": [],
   "source": [
    "# # Rewrite columns data from survey question mapping dictionaries\n",
    "# df = state_df.copy()\n",
    "# df=df.replace({\"age\": age_dict})\n",
    "# df=df.replace({\"sex\": sex_dict})\n",
    "# df=df.replace({\"grade\": grade_dict})\n",
    "# df=df.replace({\"race4\": race4_dict})\n",
    "# df=df.replace({\"race7\": race7_dict})\n",
    "# df=df.replace({\"q66\": q66_dict})\n",
    "# df=df.replace({\"q65\": q65_dict})\n",
    "# df"
   ]
  },
  {
   "cell_type": "code",
   "execution_count": null,
   "id": "464183ce-ad09-4ef9-8f25-a2cf8a9b54bf",
   "metadata": {},
   "outputs": [],
   "source": [
    "df[\"age\"].value_counts()"
   ]
  },
  {
   "cell_type": "code",
   "execution_count": null,
   "id": "76729311-2be9-408c-8510-9eb49e348a8f",
   "metadata": {},
   "outputs": [],
   "source": [
    "df[\"race4\"].value_counts()"
   ]
  },
  {
   "cell_type": "code",
   "execution_count": null,
   "id": "abcc1be9-7db1-41a2-8d1a-402d63488c54",
   "metadata": {},
   "outputs": [],
   "source": [
    "df.info()"
   ]
  }
 ],
 "metadata": {
  "kernelspec": {
   "display_name": "dev",
   "language": "python",
   "name": "dev"
  },
  "language_info": {
   "codemirror_mode": {
    "name": "ipython",
    "version": 3
   },
   "file_extension": ".py",
   "mimetype": "text/x-python",
   "name": "python",
   "nbconvert_exporter": "python",
   "pygments_lexer": "ipython3",
   "version": "3.7.13"
  }
 },
 "nbformat": 4,
 "nbformat_minor": 5
}
